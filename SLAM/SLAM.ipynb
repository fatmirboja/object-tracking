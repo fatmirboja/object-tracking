{
 "cells": [
  {
   "cell_type": "markdown",
   "metadata": {
    "deletable": true,
    "editable": true
   },
   "source": [
    "## Omega and Xi\n",
    "\n",
    "To implement Graph SLAM, a matrix and a vector (omega and xi, respectively) are introduced. The matrix is square and labelled with all the robot poses (xi) and all the landmarks (Li). Every time you make an observation, for example, as you move between two poses by some distance `dx` and can relate those two positions, you can represent this as a numerical relationship in these matrices.\n",
    "\n",
    "Below you can see a matrix representation of omega and a vector representation of xi.\n",
    "\n",
    "<img src='images/omega_xi.png' width=20% height=20% />\n",
    "\n",
    "\n",
    "### Solving for x, L\n",
    "\n",
    "To \"solve\" for all these poses and landmark positions, we can use linear algebra; all the positional values are in the vector `mu` which can be calculated as a product of the inverse of omega times xi.\n",
    "\n",
    "---\n"
   ]
  },
  {
   "cell_type": "markdown",
   "metadata": {
    "deletable": true,
    "editable": true
   },
   "source": [
    "## Constraint Updates\n",
    "\n",
    "In the below code, we construct `omega` and `xi` constraint matrices, and update these according to landmark sensor measurements and motion.\n",
    "\n",
    "#### Sensor Measurements\n",
    "\n",
    "When you sense a distance, `dl`, between a pose and a landmark, l, update the constraint matrices as follows:\n",
    "* Add `[[1, -1], [-1, 1]]` to omega at the indices for the intersection of `xt` and `l`\n",
    "* Add `-dl` and `dl` to xi at the rows for `xt` and `l`\n",
    "\n",
    "The values 2 instead of 1 indicate the \"strength\" of the measurement.\n",
    "\n",
    "You'll see three new `dl`'s as new inputs to our function `Z0, Z1, Z2`, below.\n",
    "\n",
    "#### Motion\n",
    "When your robot moves by some amount `dx` update the constraint matrices as follows:\n",
    "* Add `[[1, -1], [-1, 1]]` to omega at the indices for the intersection of `xt` and `xt+1`\n",
    "* Add `-dx` and `dx` to xi at the rows for `xt` and `xt+1`"
   ]
  },
  {
   "cell_type": "code",
   "execution_count": 26,
   "metadata": {
    "collapsed": false,
    "deletable": true,
    "editable": true
   },
   "outputs": [],
   "source": [
    "import numpy as np\n",
    "from numpy.linalg import inv\n",
    "\n",
    "def init(omega, xi, d):\n",
    "    # update omega \n",
    "    omega[0, 0] = 1\n",
    "    \n",
    "    # update xi\n",
    "    xi[0] = d\n",
    "\n",
    "def update(omega, xi, x1, x2, d, strength=1):\n",
    "    # update omega\n",
    "    omega[x1, x1] += strength\n",
    "    omega[x2, x2] += strength\n",
    "    omega[x1, x2] -= strength\n",
    "    omega[x2, x1] -= strength\n",
    "    \n",
    "    # update xi\n",
    "    xi[x1] -= d\n",
    "    xi[x2] += d\n",
    "\n",
    "\n",
    "def mu_from_positions(initial_pos, move1, move2, Z0, Z1, Z2):\n",
    "    \n",
    "    ## construct constraint matrices\n",
    "    ## and add each position/motion constraint to them\n",
    "    omega = np.zeros((4, 4))\n",
    "    xi = np.zeros((4, 1))\n",
    "    \n",
    "    # initial position\n",
    "    init(omega, xi, initial_pos)\n",
    "    # observe the landmark from the initial position\n",
    "    update(omega, xi, 0, 3, Z0)\n",
    "    \n",
    "    # move x0 -> x1\n",
    "    update(omega, xi, 0, 1, move1)\n",
    "    # observe the landmark from the position 1\n",
    "    update(omega, xi, 1, 3, Z1)\n",
    "    \n",
    "    # move x1 -> x2\n",
    "    update(omega, xi, 1, 2, move2)\n",
    "    # observe the landmark from the position 2\n",
    "    # The last sensor measurement (Z2) is extremely confident.\n",
    "    # Multiple the \"strength\" of that measurement by a factor of 5.\n",
    "    update(omega, xi, 2, 3, Z2, 5)\n",
    "    \n",
    "    # display final omega and xi\n",
    "    print('Omega: \\n', omega, '\\n')\n",
    "    print('Xi: \\n', xi, '\\n')\n",
    "    \n",
    "    ## calculate mu as the inverse of omega * xi\n",
    "    mu = np.dot(inv(omega), xi)\n",
    "    \n",
    "    return mu\n"
   ]
  },
  {
   "cell_type": "code",
   "execution_count": 29,
   "metadata": {
    "collapsed": false,
    "deletable": true,
    "editable": true
   },
   "outputs": [
    {
     "name": "stdout",
     "output_type": "stream",
     "text": [
      "Omega: \n",
      " [[ 3. -1.  0. -1.]\n",
      " [-1.  3. -1. -1.]\n",
      " [ 0. -1.  6. -5.]\n",
      " [-1. -1. -5.  7.]] \n",
      "\n",
      "Xi: \n",
      " [[-18.]\n",
      " [ -3.]\n",
      " [  2.]\n",
      " [ 16.]] \n",
      "\n",
      "Mu: \n",
      " [[-3.        ]\n",
      " [ 2.32142857]\n",
      " [ 6.28571429]\n",
      " [ 6.67857143]]\n"
     ]
    }
   ],
   "source": [
    "# call function and print out `mu`\n",
    "mu = mu_from_positions(-3, 5, 3, 10, 5, 1)\n",
    "print('Mu: \\n', mu)"
   ]
  }
 ],
 "metadata": {
  "kernelspec": {
   "display_name": "Python 3",
   "language": "python",
   "name": "python3"
  },
  "language_info": {
   "codemirror_mode": {
    "name": "ipython",
    "version": 3
   },
   "file_extension": ".py",
   "mimetype": "text/x-python",
   "name": "python",
   "nbconvert_exporter": "python",
   "pygments_lexer": "ipython3",
   "version": "3.6.4"
  }
 },
 "nbformat": 4,
 "nbformat_minor": 2
}
